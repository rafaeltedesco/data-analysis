{
 "cells": [
  {
   "cell_type": "markdown",
   "metadata": {},
   "source": [
    "# Brazilian's Parliament - Project: ETL in practice (How to work with data) - Impacta"
   ]
  },
  {
   "cell_type": "markdown",
   "metadata": {},
   "source": [
    "Data made available by Brazilian's government open data API\n",
    "Source: https://dadosabertos.camara.leg.br/swagger/api.html"
   ]
  },
  {
   "cell_type": "code",
   "execution_count": 6,
   "metadata": {},
   "outputs": [
    {
     "name": "stdout",
     "output_type": "stream",
     "text": [
      "Requirement already satisfied: requests in c:\\users\\rafae\\appdata\\local\\programs\\python\\python38-32\\lib\\site-packages (2.23.0)\n",
      "Requirement already satisfied: urllib3!=1.25.0,!=1.25.1,<1.26,>=1.21.1 in c:\\users\\rafae\\appdata\\local\\programs\\python\\python38-32\\lib\\site-packages (from requests) (1.25.9)\n",
      "Requirement already satisfied: idna<3,>=2.5 in c:\\users\\rafae\\appdata\\local\\programs\\python\\python38-32\\lib\\site-packages (from requests) (2.9)\n",
      "Requirement already satisfied: certifi>=2017.4.17 in c:\\users\\rafae\\appdata\\local\\programs\\python\\python38-32\\lib\\site-packages (from requests) (2020.4.5.1)\n",
      "Requirement already satisfied: chardet<4,>=3.0.2 in c:\\users\\rafae\\appdata\\local\\programs\\python\\python38-32\\lib\\site-packages (from requests) (3.0.4)\n"
     ]
    }
   ],
   "source": [
    "!pip install requests"
   ]
  },
  {
   "cell_type": "code",
   "execution_count": 81,
   "metadata": {},
   "outputs": [],
   "source": [
    "import pandas as pd\n",
    "import requests\n",
    "import matplotlib.pyplot as plt\n",
    "%matplotlib inline\n",
    "\n",
    "from sqlalchemy import create_engine"
   ]
  },
  {
   "cell_type": "markdown",
   "metadata": {},
   "source": [
    "# (ETL) - Extract"
   ]
  },
  {
   "cell_type": "code",
   "execution_count": 7,
   "metadata": {},
   "outputs": [],
   "source": [
    "url = 'https://dadosabertos.camara.leg.br/api/v2/deputados?ordem=ASC&ordenarPor=nome'\n",
    "resultado = requests.get(url)"
   ]
  },
  {
   "cell_type": "code",
   "execution_count": 12,
   "metadata": {},
   "outputs": [],
   "source": [
    "df_parliament = pd.DataFrame(resultado.json()['dados'])"
   ]
  },
  {
   "cell_type": "code",
   "execution_count": 21,
   "metadata": {
    "scrolled": true
   },
   "outputs": [
    {
     "data": {
      "text/html": [
       "<div>\n",
       "<style scoped>\n",
       "    .dataframe tbody tr th:only-of-type {\n",
       "        vertical-align: middle;\n",
       "    }\n",
       "\n",
       "    .dataframe tbody tr th {\n",
       "        vertical-align: top;\n",
       "    }\n",
       "\n",
       "    .dataframe thead th {\n",
       "        text-align: right;\n",
       "    }\n",
       "</style>\n",
       "<table border=\"1\" class=\"dataframe\">\n",
       "  <thead>\n",
       "    <tr style=\"text-align: right;\">\n",
       "      <th></th>\n",
       "      <th>id</th>\n",
       "      <th>uri</th>\n",
       "      <th>nome</th>\n",
       "      <th>siglaPartido</th>\n",
       "      <th>uriPartido</th>\n",
       "      <th>siglaUf</th>\n",
       "      <th>idLegislatura</th>\n",
       "      <th>urlFoto</th>\n",
       "      <th>email</th>\n",
       "    </tr>\n",
       "  </thead>\n",
       "  <tbody>\n",
       "    <tr>\n",
       "      <th>0</th>\n",
       "      <td>204554</td>\n",
       "      <td>https://dadosabertos.camara.leg.br/api/v2/depu...</td>\n",
       "      <td>Abílio Santana</td>\n",
       "      <td>PL</td>\n",
       "      <td>https://dadosabertos.camara.leg.br/api/v2/part...</td>\n",
       "      <td>BA</td>\n",
       "      <td>56</td>\n",
       "      <td>https://www.camara.leg.br/internet/deputado/ba...</td>\n",
       "      <td>dep.abiliosantana@camara.leg.br</td>\n",
       "    </tr>\n",
       "    <tr>\n",
       "      <th>1</th>\n",
       "      <td>204521</td>\n",
       "      <td>https://dadosabertos.camara.leg.br/api/v2/depu...</td>\n",
       "      <td>Abou Anni</td>\n",
       "      <td>PSL</td>\n",
       "      <td>https://dadosabertos.camara.leg.br/api/v2/part...</td>\n",
       "      <td>SP</td>\n",
       "      <td>56</td>\n",
       "      <td>https://www.camara.leg.br/internet/deputado/ba...</td>\n",
       "      <td>dep.abouanni@camara.leg.br</td>\n",
       "    </tr>\n",
       "    <tr>\n",
       "      <th>2</th>\n",
       "      <td>204379</td>\n",
       "      <td>https://dadosabertos.camara.leg.br/api/v2/depu...</td>\n",
       "      <td>Acácio Favacho</td>\n",
       "      <td>PROS</td>\n",
       "      <td>https://dadosabertos.camara.leg.br/api/v2/part...</td>\n",
       "      <td>AP</td>\n",
       "      <td>56</td>\n",
       "      <td>https://www.camara.leg.br/internet/deputado/ba...</td>\n",
       "      <td>dep.acaciofavacho@camara.leg.br</td>\n",
       "    </tr>\n",
       "    <tr>\n",
       "      <th>3</th>\n",
       "      <td>204560</td>\n",
       "      <td>https://dadosabertos.camara.leg.br/api/v2/depu...</td>\n",
       "      <td>Adolfo Viana</td>\n",
       "      <td>PSDB</td>\n",
       "      <td>https://dadosabertos.camara.leg.br/api/v2/part...</td>\n",
       "      <td>BA</td>\n",
       "      <td>56</td>\n",
       "      <td>https://www.camara.leg.br/internet/deputado/ba...</td>\n",
       "      <td>dep.adolfoviana@camara.leg.br</td>\n",
       "    </tr>\n",
       "    <tr>\n",
       "      <th>4</th>\n",
       "      <td>204528</td>\n",
       "      <td>https://dadosabertos.camara.leg.br/api/v2/depu...</td>\n",
       "      <td>Adriana Ventura</td>\n",
       "      <td>NOVO</td>\n",
       "      <td>https://dadosabertos.camara.leg.br/api/v2/part...</td>\n",
       "      <td>SP</td>\n",
       "      <td>56</td>\n",
       "      <td>https://www.camara.leg.br/internet/deputado/ba...</td>\n",
       "      <td>dep.adrianaventura@camara.leg.br</td>\n",
       "    </tr>\n",
       "  </tbody>\n",
       "</table>\n",
       "</div>"
      ],
      "text/plain": [
       "       id                                                uri             nome  \\\n",
       "0  204554  https://dadosabertos.camara.leg.br/api/v2/depu...   Abílio Santana   \n",
       "1  204521  https://dadosabertos.camara.leg.br/api/v2/depu...        Abou Anni   \n",
       "2  204379  https://dadosabertos.camara.leg.br/api/v2/depu...   Acácio Favacho   \n",
       "3  204560  https://dadosabertos.camara.leg.br/api/v2/depu...     Adolfo Viana   \n",
       "4  204528  https://dadosabertos.camara.leg.br/api/v2/depu...  Adriana Ventura   \n",
       "\n",
       "  siglaPartido                                         uriPartido siglaUf  \\\n",
       "0           PL  https://dadosabertos.camara.leg.br/api/v2/part...      BA   \n",
       "1          PSL  https://dadosabertos.camara.leg.br/api/v2/part...      SP   \n",
       "2         PROS  https://dadosabertos.camara.leg.br/api/v2/part...      AP   \n",
       "3         PSDB  https://dadosabertos.camara.leg.br/api/v2/part...      BA   \n",
       "4         NOVO  https://dadosabertos.camara.leg.br/api/v2/part...      SP   \n",
       "\n",
       "   idLegislatura                                            urlFoto  \\\n",
       "0             56  https://www.camara.leg.br/internet/deputado/ba...   \n",
       "1             56  https://www.camara.leg.br/internet/deputado/ba...   \n",
       "2             56  https://www.camara.leg.br/internet/deputado/ba...   \n",
       "3             56  https://www.camara.leg.br/internet/deputado/ba...   \n",
       "4             56  https://www.camara.leg.br/internet/deputado/ba...   \n",
       "\n",
       "                              email  \n",
       "0   dep.abiliosantana@camara.leg.br  \n",
       "1        dep.abouanni@camara.leg.br  \n",
       "2   dep.acaciofavacho@camara.leg.br  \n",
       "3     dep.adolfoviana@camara.leg.br  \n",
       "4  dep.adrianaventura@camara.leg.br  "
      ]
     },
     "execution_count": 21,
     "metadata": {},
     "output_type": "execute_result"
    }
   ],
   "source": [
    "df_parliament.head()"
   ]
  },
  {
   "cell_type": "code",
   "execution_count": 22,
   "metadata": {},
   "outputs": [
    {
     "data": {
      "text/plain": [
       "(513, 9)"
      ]
     },
     "execution_count": 22,
     "metadata": {},
     "output_type": "execute_result"
    }
   ],
   "source": [
    "df_parliament.shape"
   ]
  },
  {
   "cell_type": "code",
   "execution_count": 27,
   "metadata": {},
   "outputs": [],
   "source": [
    "public_spd = []"
   ]
  },
  {
   "cell_type": "code",
   "execution_count": 29,
   "metadata": {},
   "outputs": [],
   "source": [
    "for id in df_parliament['id']:\n",
    "    url_spd = \"\"\"https://dadosabertos.camara.leg.br/api/v2/\\\n",
    "deputados/{}/despesas?ordem=ASC&ano=2019\"\"\"\n",
    "    response = requests.get(url_spd.format(str(id)))\n",
    "    spd = pd.DataFrame(response.json()['dados'])\n",
    "    spd['id'] = id\n",
    "    public_spd.append(spd)\n",
    "    "
   ]
  },
  {
   "cell_type": "markdown",
   "metadata": {},
   "source": [
    "# (ETL) - Transform"
   ]
  },
  {
   "cell_type": "code",
   "execution_count": 34,
   "metadata": {},
   "outputs": [],
   "source": [
    "total = pd.concat(public_spd)"
   ]
  },
  {
   "cell_type": "code",
   "execution_count": 35,
   "metadata": {},
   "outputs": [
    {
     "data": {
      "text/html": [
       "<div>\n",
       "<style scoped>\n",
       "    .dataframe tbody tr th:only-of-type {\n",
       "        vertical-align: middle;\n",
       "    }\n",
       "\n",
       "    .dataframe tbody tr th {\n",
       "        vertical-align: top;\n",
       "    }\n",
       "\n",
       "    .dataframe thead th {\n",
       "        text-align: right;\n",
       "    }\n",
       "</style>\n",
       "<table border=\"1\" class=\"dataframe\">\n",
       "  <thead>\n",
       "    <tr style=\"text-align: right;\">\n",
       "      <th></th>\n",
       "      <th>ano</th>\n",
       "      <th>mes</th>\n",
       "      <th>tipoDespesa</th>\n",
       "      <th>codDocumento</th>\n",
       "      <th>tipoDocumento</th>\n",
       "      <th>codTipoDocumento</th>\n",
       "      <th>dataDocumento</th>\n",
       "      <th>numDocumento</th>\n",
       "      <th>valorDocumento</th>\n",
       "      <th>urlDocumento</th>\n",
       "      <th>nomeFornecedor</th>\n",
       "      <th>cnpjCpfFornecedor</th>\n",
       "      <th>valorLiquido</th>\n",
       "      <th>valorGlosa</th>\n",
       "      <th>numRessarcimento</th>\n",
       "      <th>codLote</th>\n",
       "      <th>parcela</th>\n",
       "      <th>id</th>\n",
       "    </tr>\n",
       "  </thead>\n",
       "  <tbody>\n",
       "    <tr>\n",
       "      <th>0</th>\n",
       "      <td>2019.0</td>\n",
       "      <td>3.0</td>\n",
       "      <td>MANUTENÇÃO DE ESCRITÓRIO DE APOIO À ATIVIDADE ...</td>\n",
       "      <td>6801547.0</td>\n",
       "      <td>Nota Fiscal</td>\n",
       "      <td>0.0</td>\n",
       "      <td>2019-03-14</td>\n",
       "      <td>355732875</td>\n",
       "      <td>154.95</td>\n",
       "      <td>https://www.camara.leg.br/cota-parlamentar/doc...</td>\n",
       "      <td>COMPANHIA DE ELETRICIDADE DO ESTADO DA BAHIA</td>\n",
       "      <td>15139629000194</td>\n",
       "      <td>154.95</td>\n",
       "      <td>0.00</td>\n",
       "      <td></td>\n",
       "      <td>1582602.0</td>\n",
       "      <td>0.0</td>\n",
       "      <td>204554</td>\n",
       "    </tr>\n",
       "    <tr>\n",
       "      <th>1</th>\n",
       "      <td>2019.0</td>\n",
       "      <td>5.0</td>\n",
       "      <td>MANUTENÇÃO DE ESCRITÓRIO DE APOIO À ATIVIDADE ...</td>\n",
       "      <td>6839323.0</td>\n",
       "      <td>Nota Fiscal</td>\n",
       "      <td>0.0</td>\n",
       "      <td>2019-05-13</td>\n",
       "      <td>368080247</td>\n",
       "      <td>343.48</td>\n",
       "      <td>https://www.camara.leg.br/cota-parlamentar/doc...</td>\n",
       "      <td>COMPANHIA DE ELETRICIDADE DO ESTADO DA BAHIA</td>\n",
       "      <td>15139629000194</td>\n",
       "      <td>335.80</td>\n",
       "      <td>7.68</td>\n",
       "      <td></td>\n",
       "      <td>1599179.0</td>\n",
       "      <td>0.0</td>\n",
       "      <td>204554</td>\n",
       "    </tr>\n",
       "    <tr>\n",
       "      <th>2</th>\n",
       "      <td>2019.0</td>\n",
       "      <td>6.0</td>\n",
       "      <td>MANUTENÇÃO DE ESCRITÓRIO DE APOIO À ATIVIDADE ...</td>\n",
       "      <td>6864448.0</td>\n",
       "      <td>Nota Fiscal</td>\n",
       "      <td>0.0</td>\n",
       "      <td>2019-06-11</td>\n",
       "      <td>374258346</td>\n",
       "      <td>312.27</td>\n",
       "      <td>https://www.camara.leg.br/cota-parlamentar/doc...</td>\n",
       "      <td>COMPANHIA DE ELETRICIDADE DO ESTADO DA BAHIA</td>\n",
       "      <td>15139629000194</td>\n",
       "      <td>305.26</td>\n",
       "      <td>7.01</td>\n",
       "      <td></td>\n",
       "      <td>1609919.0</td>\n",
       "      <td>0.0</td>\n",
       "      <td>204554</td>\n",
       "    </tr>\n",
       "    <tr>\n",
       "      <th>3</th>\n",
       "      <td>2019.0</td>\n",
       "      <td>7.0</td>\n",
       "      <td>MANUTENÇÃO DE ESCRITÓRIO DE APOIO À ATIVIDADE ...</td>\n",
       "      <td>6892233.0</td>\n",
       "      <td>Nota Fiscal</td>\n",
       "      <td>0.0</td>\n",
       "      <td>2019-07-11</td>\n",
       "      <td>380373873</td>\n",
       "      <td>191.56</td>\n",
       "      <td>https://www.camara.leg.br/cota-parlamentar/doc...</td>\n",
       "      <td>COMPANHIA DE ELETRICIDADE DO ESTADO DA BAHIA</td>\n",
       "      <td>15139629000194</td>\n",
       "      <td>184.53</td>\n",
       "      <td>7.03</td>\n",
       "      <td></td>\n",
       "      <td>1621422.0</td>\n",
       "      <td>0.0</td>\n",
       "      <td>204554</td>\n",
       "    </tr>\n",
       "    <tr>\n",
       "      <th>4</th>\n",
       "      <td>2019.0</td>\n",
       "      <td>8.0</td>\n",
       "      <td>MANUTENÇÃO DE ESCRITÓRIO DE APOIO À ATIVIDADE ...</td>\n",
       "      <td>6915356.0</td>\n",
       "      <td>Nota Fiscal</td>\n",
       "      <td>0.0</td>\n",
       "      <td>2019-08-12</td>\n",
       "      <td>386469334</td>\n",
       "      <td>138.61</td>\n",
       "      <td>https://www.camara.leg.br/cota-parlamentar/doc...</td>\n",
       "      <td>COMPANHIA DE ELETRICIDADE DO ESTADO DA BAHIA</td>\n",
       "      <td>15139629000194</td>\n",
       "      <td>131.90</td>\n",
       "      <td>6.71</td>\n",
       "      <td></td>\n",
       "      <td>1632429.0</td>\n",
       "      <td>0.0</td>\n",
       "      <td>204554</td>\n",
       "    </tr>\n",
       "  </tbody>\n",
       "</table>\n",
       "</div>"
      ],
      "text/plain": [
       "      ano  mes                                        tipoDespesa  \\\n",
       "0  2019.0  3.0  MANUTENÇÃO DE ESCRITÓRIO DE APOIO À ATIVIDADE ...   \n",
       "1  2019.0  5.0  MANUTENÇÃO DE ESCRITÓRIO DE APOIO À ATIVIDADE ...   \n",
       "2  2019.0  6.0  MANUTENÇÃO DE ESCRITÓRIO DE APOIO À ATIVIDADE ...   \n",
       "3  2019.0  7.0  MANUTENÇÃO DE ESCRITÓRIO DE APOIO À ATIVIDADE ...   \n",
       "4  2019.0  8.0  MANUTENÇÃO DE ESCRITÓRIO DE APOIO À ATIVIDADE ...   \n",
       "\n",
       "   codDocumento tipoDocumento  codTipoDocumento dataDocumento numDocumento  \\\n",
       "0     6801547.0   Nota Fiscal               0.0    2019-03-14    355732875   \n",
       "1     6839323.0   Nota Fiscal               0.0    2019-05-13    368080247   \n",
       "2     6864448.0   Nota Fiscal               0.0    2019-06-11    374258346   \n",
       "3     6892233.0   Nota Fiscal               0.0    2019-07-11    380373873   \n",
       "4     6915356.0   Nota Fiscal               0.0    2019-08-12    386469334   \n",
       "\n",
       "   valorDocumento                                       urlDocumento  \\\n",
       "0          154.95  https://www.camara.leg.br/cota-parlamentar/doc...   \n",
       "1          343.48  https://www.camara.leg.br/cota-parlamentar/doc...   \n",
       "2          312.27  https://www.camara.leg.br/cota-parlamentar/doc...   \n",
       "3          191.56  https://www.camara.leg.br/cota-parlamentar/doc...   \n",
       "4          138.61  https://www.camara.leg.br/cota-parlamentar/doc...   \n",
       "\n",
       "                                 nomeFornecedor cnpjCpfFornecedor  \\\n",
       "0  COMPANHIA DE ELETRICIDADE DO ESTADO DA BAHIA    15139629000194   \n",
       "1  COMPANHIA DE ELETRICIDADE DO ESTADO DA BAHIA    15139629000194   \n",
       "2  COMPANHIA DE ELETRICIDADE DO ESTADO DA BAHIA    15139629000194   \n",
       "3  COMPANHIA DE ELETRICIDADE DO ESTADO DA BAHIA    15139629000194   \n",
       "4  COMPANHIA DE ELETRICIDADE DO ESTADO DA BAHIA    15139629000194   \n",
       "\n",
       "   valorLiquido  valorGlosa numRessarcimento    codLote  parcela      id  \n",
       "0        154.95        0.00                   1582602.0      0.0  204554  \n",
       "1        335.80        7.68                   1599179.0      0.0  204554  \n",
       "2        305.26        7.01                   1609919.0      0.0  204554  \n",
       "3        184.53        7.03                   1621422.0      0.0  204554  \n",
       "4        131.90        6.71                   1632429.0      0.0  204554  "
      ]
     },
     "execution_count": 35,
     "metadata": {},
     "output_type": "execute_result"
    }
   ],
   "source": [
    "total.head()"
   ]
  },
  {
   "cell_type": "code",
   "execution_count": 36,
   "metadata": {
    "scrolled": true
   },
   "outputs": [
    {
     "data": {
      "text/plain": [
       "ano                     0\n",
       "mes                     0\n",
       "tipoDespesa             0\n",
       "codDocumento            0\n",
       "tipoDocumento           0\n",
       "codTipoDocumento        0\n",
       "dataDocumento         136\n",
       "numDocumento            0\n",
       "valorDocumento          0\n",
       "urlDocumento         1038\n",
       "nomeFornecedor          0\n",
       "cnpjCpfFornecedor       0\n",
       "valorLiquido            0\n",
       "valorGlosa              0\n",
       "numRessarcimento        0\n",
       "codLote                 0\n",
       "parcela                 0\n",
       "id                      0\n",
       "dtype: int64"
      ]
     },
     "execution_count": 36,
     "metadata": {},
     "output_type": "execute_result"
    }
   ],
   "source": [
    "# are there any missing value?\n",
    "total.isnull().sum()"
   ]
  },
  {
   "cell_type": "code",
   "execution_count": 37,
   "metadata": {},
   "outputs": [],
   "source": [
    "del total['dataDocumento']"
   ]
  },
  {
   "cell_type": "code",
   "execution_count": 41,
   "metadata": {},
   "outputs": [
    {
     "data": {
      "text/plain": [
       "     6828\n",
       "0     802\n",
       "Name: numRessarcimento, dtype: int64"
      ]
     },
     "execution_count": 41,
     "metadata": {},
     "output_type": "execute_result"
    }
   ],
   "source": [
    "total.numRessarcimento.value_counts()"
   ]
  },
  {
   "cell_type": "code",
   "execution_count": 43,
   "metadata": {},
   "outputs": [],
   "source": [
    "del total['numRessarcimento']"
   ]
  },
  {
   "cell_type": "code",
   "execution_count": 48,
   "metadata": {},
   "outputs": [],
   "source": [
    "del total['urlDocumento']"
   ]
  },
  {
   "cell_type": "code",
   "execution_count": 50,
   "metadata": {},
   "outputs": [
    {
     "name": "stdout",
     "output_type": "stream",
     "text": [
      "(7630, 15)\n",
      "(7630, 15)\n"
     ]
    }
   ],
   "source": [
    "print(total.shape)\n",
    "total.drop_duplicates()\n",
    "print(total.shape)"
   ]
  },
  {
   "cell_type": "code",
   "execution_count": 51,
   "metadata": {},
   "outputs": [
    {
     "name": "stdout",
     "output_type": "stream",
     "text": [
      "<class 'pandas.core.frame.DataFrame'>\n",
      "Int64Index: 7630 entries, 0 to 14\n",
      "Data columns (total 15 columns):\n",
      " #   Column             Non-Null Count  Dtype  \n",
      "---  ------             --------------  -----  \n",
      " 0   ano                7630 non-null   float64\n",
      " 1   mes                7630 non-null   float64\n",
      " 2   tipoDespesa        7630 non-null   object \n",
      " 3   codDocumento       7630 non-null   float64\n",
      " 4   tipoDocumento      7630 non-null   object \n",
      " 5   codTipoDocumento   7630 non-null   float64\n",
      " 6   numDocumento       7630 non-null   object \n",
      " 7   valorDocumento     7630 non-null   float64\n",
      " 8   nomeFornecedor     7630 non-null   object \n",
      " 9   cnpjCpfFornecedor  7630 non-null   object \n",
      " 10  valorLiquido       7630 non-null   float64\n",
      " 11  valorGlosa         7630 non-null   float64\n",
      " 12  codLote            7630 non-null   float64\n",
      " 13  parcela            7630 non-null   float64\n",
      " 14  id                 7630 non-null   int64  \n",
      "dtypes: float64(9), int64(1), object(5)\n",
      "memory usage: 804.7+ KB\n"
     ]
    }
   ],
   "source": [
    "total.info()"
   ]
  },
  {
   "cell_type": "code",
   "execution_count": 53,
   "metadata": {},
   "outputs": [
    {
     "data": {
      "text/html": [
       "<div>\n",
       "<style scoped>\n",
       "    .dataframe tbody tr th:only-of-type {\n",
       "        vertical-align: middle;\n",
       "    }\n",
       "\n",
       "    .dataframe tbody tr th {\n",
       "        vertical-align: top;\n",
       "    }\n",
       "\n",
       "    .dataframe thead th {\n",
       "        text-align: right;\n",
       "    }\n",
       "</style>\n",
       "<table border=\"1\" class=\"dataframe\">\n",
       "  <thead>\n",
       "    <tr style=\"text-align: right;\">\n",
       "      <th></th>\n",
       "      <th>ano</th>\n",
       "      <th>mes</th>\n",
       "      <th>codDocumento</th>\n",
       "      <th>codTipoDocumento</th>\n",
       "      <th>valorDocumento</th>\n",
       "      <th>valorLiquido</th>\n",
       "      <th>valorGlosa</th>\n",
       "      <th>codLote</th>\n",
       "      <th>parcela</th>\n",
       "      <th>id</th>\n",
       "    </tr>\n",
       "  </thead>\n",
       "  <tbody>\n",
       "    <tr>\n",
       "      <th>count</th>\n",
       "      <td>7630.0</td>\n",
       "      <td>7630.000000</td>\n",
       "      <td>7.630000e+03</td>\n",
       "      <td>7630.000000</td>\n",
       "      <td>7630.000000</td>\n",
       "      <td>7630.000000</td>\n",
       "      <td>7630.000000</td>\n",
       "      <td>7.630000e+03</td>\n",
       "      <td>7630.000000</td>\n",
       "      <td>7630.000000</td>\n",
       "    </tr>\n",
       "    <tr>\n",
       "      <th>mean</th>\n",
       "      <td>2019.0</td>\n",
       "      <td>4.231586</td>\n",
       "      <td>6.176052e+06</td>\n",
       "      <td>1.408519</td>\n",
       "      <td>1171.036008</td>\n",
       "      <td>1147.054502</td>\n",
       "      <td>21.323970</td>\n",
       "      <td>1.429641e+06</td>\n",
       "      <td>0.000655</td>\n",
       "      <td>167368.969594</td>\n",
       "    </tr>\n",
       "    <tr>\n",
       "      <th>std</th>\n",
       "      <td>0.0</td>\n",
       "      <td>3.701678</td>\n",
       "      <td>1.940612e+06</td>\n",
       "      <td>1.729273</td>\n",
       "      <td>3279.671879</td>\n",
       "      <td>2789.880538</td>\n",
       "      <td>991.844951</td>\n",
       "      <td>4.911662e+05</td>\n",
       "      <td>0.025592</td>\n",
       "      <td>45675.706403</td>\n",
       "    </tr>\n",
       "    <tr>\n",
       "      <th>min</th>\n",
       "      <td>2019.0</td>\n",
       "      <td>1.000000</td>\n",
       "      <td>0.000000e+00</td>\n",
       "      <td>0.000000</td>\n",
       "      <td>-1881.890000</td>\n",
       "      <td>-1881.890000</td>\n",
       "      <td>0.000000</td>\n",
       "      <td>0.000000e+00</td>\n",
       "      <td>0.000000</td>\n",
       "      <td>66179.000000</td>\n",
       "    </tr>\n",
       "    <tr>\n",
       "      <th>25%</th>\n",
       "      <td>2019.0</td>\n",
       "      <td>1.000000</td>\n",
       "      <td>6.747369e+06</td>\n",
       "      <td>0.000000</td>\n",
       "      <td>137.487500</td>\n",
       "      <td>132.992500</td>\n",
       "      <td>0.000000</td>\n",
       "      <td>1.559362e+06</td>\n",
       "      <td>0.000000</td>\n",
       "      <td>141555.000000</td>\n",
       "    </tr>\n",
       "    <tr>\n",
       "      <th>50%</th>\n",
       "      <td>2019.0</td>\n",
       "      <td>3.000000</td>\n",
       "      <td>6.793352e+06</td>\n",
       "      <td>1.000000</td>\n",
       "      <td>267.110000</td>\n",
       "      <td>261.815000</td>\n",
       "      <td>0.000000</td>\n",
       "      <td>1.579334e+06</td>\n",
       "      <td>0.000000</td>\n",
       "      <td>178956.000000</td>\n",
       "    </tr>\n",
       "    <tr>\n",
       "      <th>75%</th>\n",
       "      <td>2019.0</td>\n",
       "      <td>7.000000</td>\n",
       "      <td>6.894789e+06</td>\n",
       "      <td>4.000000</td>\n",
       "      <td>956.137500</td>\n",
       "      <td>924.592500</td>\n",
       "      <td>0.000000</td>\n",
       "      <td>1.622608e+06</td>\n",
       "      <td>0.000000</td>\n",
       "      <td>204454.000000</td>\n",
       "    </tr>\n",
       "    <tr>\n",
       "      <th>max</th>\n",
       "      <td>2019.0</td>\n",
       "      <td>12.000000</td>\n",
       "      <td>7.035691e+06</td>\n",
       "      <td>4.000000</td>\n",
       "      <td>172000.000000</td>\n",
       "      <td>86000.000000</td>\n",
       "      <td>86000.000000</td>\n",
       "      <td>1.686035e+06</td>\n",
       "      <td>1.000000</td>\n",
       "      <td>212749.000000</td>\n",
       "    </tr>\n",
       "  </tbody>\n",
       "</table>\n",
       "</div>"
      ],
      "text/plain": [
       "          ano          mes  codDocumento  codTipoDocumento  valorDocumento  \\\n",
       "count  7630.0  7630.000000  7.630000e+03       7630.000000     7630.000000   \n",
       "mean   2019.0     4.231586  6.176052e+06          1.408519     1171.036008   \n",
       "std       0.0     3.701678  1.940612e+06          1.729273     3279.671879   \n",
       "min    2019.0     1.000000  0.000000e+00          0.000000    -1881.890000   \n",
       "25%    2019.0     1.000000  6.747369e+06          0.000000      137.487500   \n",
       "50%    2019.0     3.000000  6.793352e+06          1.000000      267.110000   \n",
       "75%    2019.0     7.000000  6.894789e+06          4.000000      956.137500   \n",
       "max    2019.0    12.000000  7.035691e+06          4.000000   172000.000000   \n",
       "\n",
       "       valorLiquido    valorGlosa       codLote      parcela             id  \n",
       "count   7630.000000   7630.000000  7.630000e+03  7630.000000    7630.000000  \n",
       "mean    1147.054502     21.323970  1.429641e+06     0.000655  167368.969594  \n",
       "std     2789.880538    991.844951  4.911662e+05     0.025592   45675.706403  \n",
       "min    -1881.890000      0.000000  0.000000e+00     0.000000   66179.000000  \n",
       "25%      132.992500      0.000000  1.559362e+06     0.000000  141555.000000  \n",
       "50%      261.815000      0.000000  1.579334e+06     0.000000  178956.000000  \n",
       "75%      924.592500      0.000000  1.622608e+06     0.000000  204454.000000  \n",
       "max    86000.000000  86000.000000  1.686035e+06     1.000000  212749.000000  "
      ]
     },
     "execution_count": 53,
     "metadata": {},
     "output_type": "execute_result"
    }
   ],
   "source": [
    "total.describe()"
   ]
  },
  {
   "cell_type": "code",
   "execution_count": 54,
   "metadata": {
    "scrolled": true
   },
   "outputs": [
    {
     "data": {
      "text/plain": [
       "CELULAR FUNCIONAL                               285\n",
       "AMORETTO CAFES EXPRESSO LTDA                    230\n",
       "CASCOL COMBUSTIVEIS PARA VEICULOS LTDA          170\n",
       "WMS COMERCIO DE ARTIGOS DE PAPELARIA LTDA-ME    154\n",
       "Cia Aérea - GOL                                 148\n",
       "                                               ... \n",
       "HOLANDA & VASCONCELOS ADVOCACIA S/S               1\n",
       "ELMAR POSTO DE ABASTECIMENTO LT                   1\n",
       "AGUAS GUARIROBA SA                                1\n",
       "ANTONIO RODRIGO MACHADO ADVOCACIA ASSOCIADA       1\n",
       "                                                  1\n",
       "Name: nomeFornecedor, Length: 2042, dtype: int64"
      ]
     },
     "execution_count": 54,
     "metadata": {},
     "output_type": "execute_result"
    }
   ],
   "source": [
    "total.nomeFornecedor.value_counts()"
   ]
  },
  {
   "cell_type": "code",
   "execution_count": 59,
   "metadata": {},
   "outputs": [],
   "source": [
    "total.nomeFornecedor = [str(fornecedor).upper().replace(\"S.A.\",\"S.A\").replace(\"S/A\",\"S.A\") \\\n",
    " for fornecedor in total.nomeFornecedor]"
   ]
  },
  {
   "cell_type": "code",
   "execution_count": 60,
   "metadata": {
    "scrolled": true
   },
   "outputs": [
    {
     "data": {
      "text/plain": [
       "CELULAR FUNCIONAL                               285\n",
       "AMORETTO CAFES EXPRESSO LTDA                    230\n",
       "CLARO S.A                                       210\n",
       "CASCOL COMBUSTIVEIS PARA VEICULOS LTDA          170\n",
       "WMS COMERCIO DE ARTIGOS DE PAPELARIA LTDA-ME    154\n",
       "                                               ... \n",
       "IRMAOS BESSA IMOVEIS LTDA                         1\n",
       "EVE EMPREENDIMENTOS LTDA _ ME                     1\n",
       "ALCLA COMERCIO DE COMBUSTIVEIS LTDA               1\n",
       "SANTA MARIA IMOVEIS LTDA                          1\n",
       "                                                  1\n",
       "Name: nomeFornecedor, Length: 2019, dtype: int64"
      ]
     },
     "execution_count": 60,
     "metadata": {},
     "output_type": "execute_result"
    }
   ],
   "source": [
    "total.nomeFornecedor.value_counts()"
   ]
  },
  {
   "cell_type": "markdown",
   "metadata": {},
   "source": [
    "# (ETL) - Load"
   ]
  },
  {
   "cell_type": "code",
   "execution_count": 63,
   "metadata": {},
   "outputs": [],
   "source": [
    "engine = create_engine('sqlite:///open_data.db')"
   ]
  },
  {
   "cell_type": "code",
   "execution_count": 65,
   "metadata": {},
   "outputs": [],
   "source": [
    "parliament.to_sql('parliamentarians', engine)"
   ]
  },
  {
   "cell_type": "code",
   "execution_count": 66,
   "metadata": {},
   "outputs": [],
   "source": [
    "total.to_sql('spendings', engine)"
   ]
  },
  {
   "cell_type": "markdown",
   "metadata": {},
   "source": [
    "### Analysis"
   ]
  },
  {
   "cell_type": "code",
   "execution_count": 68,
   "metadata": {},
   "outputs": [],
   "source": [
    "total_spendings = pd.read_sql('SELECT * FROM spendings', engine)"
   ]
  },
  {
   "cell_type": "code",
   "execution_count": 69,
   "metadata": {},
   "outputs": [
    {
     "data": {
      "text/html": [
       "<div>\n",
       "<style scoped>\n",
       "    .dataframe tbody tr th:only-of-type {\n",
       "        vertical-align: middle;\n",
       "    }\n",
       "\n",
       "    .dataframe tbody tr th {\n",
       "        vertical-align: top;\n",
       "    }\n",
       "\n",
       "    .dataframe thead th {\n",
       "        text-align: right;\n",
       "    }\n",
       "</style>\n",
       "<table border=\"1\" class=\"dataframe\">\n",
       "  <thead>\n",
       "    <tr style=\"text-align: right;\">\n",
       "      <th></th>\n",
       "      <th>index</th>\n",
       "      <th>ano</th>\n",
       "      <th>mes</th>\n",
       "      <th>tipoDespesa</th>\n",
       "      <th>codDocumento</th>\n",
       "      <th>tipoDocumento</th>\n",
       "      <th>codTipoDocumento</th>\n",
       "      <th>numDocumento</th>\n",
       "      <th>valorDocumento</th>\n",
       "      <th>nomeFornecedor</th>\n",
       "      <th>cnpjCpfFornecedor</th>\n",
       "      <th>valorLiquido</th>\n",
       "      <th>valorGlosa</th>\n",
       "      <th>codLote</th>\n",
       "      <th>parcela</th>\n",
       "      <th>id</th>\n",
       "    </tr>\n",
       "  </thead>\n",
       "  <tbody>\n",
       "    <tr>\n",
       "      <th>0</th>\n",
       "      <td>0</td>\n",
       "      <td>2019.0</td>\n",
       "      <td>3.0</td>\n",
       "      <td>MANUTENÇÃO DE ESCRITÓRIO DE APOIO À ATIVIDADE ...</td>\n",
       "      <td>6801547.0</td>\n",
       "      <td>Nota Fiscal</td>\n",
       "      <td>0.0</td>\n",
       "      <td>355732875</td>\n",
       "      <td>154.95</td>\n",
       "      <td>COMPANHIA DE ELETRICIDADE DO ESTADO DA BAHIA</td>\n",
       "      <td>15139629000194</td>\n",
       "      <td>154.95</td>\n",
       "      <td>0.00</td>\n",
       "      <td>1582602.0</td>\n",
       "      <td>0.0</td>\n",
       "      <td>204554</td>\n",
       "    </tr>\n",
       "    <tr>\n",
       "      <th>1</th>\n",
       "      <td>1</td>\n",
       "      <td>2019.0</td>\n",
       "      <td>5.0</td>\n",
       "      <td>MANUTENÇÃO DE ESCRITÓRIO DE APOIO À ATIVIDADE ...</td>\n",
       "      <td>6839323.0</td>\n",
       "      <td>Nota Fiscal</td>\n",
       "      <td>0.0</td>\n",
       "      <td>368080247</td>\n",
       "      <td>343.48</td>\n",
       "      <td>COMPANHIA DE ELETRICIDADE DO ESTADO DA BAHIA</td>\n",
       "      <td>15139629000194</td>\n",
       "      <td>335.80</td>\n",
       "      <td>7.68</td>\n",
       "      <td>1599179.0</td>\n",
       "      <td>0.0</td>\n",
       "      <td>204554</td>\n",
       "    </tr>\n",
       "    <tr>\n",
       "      <th>2</th>\n",
       "      <td>2</td>\n",
       "      <td>2019.0</td>\n",
       "      <td>6.0</td>\n",
       "      <td>MANUTENÇÃO DE ESCRITÓRIO DE APOIO À ATIVIDADE ...</td>\n",
       "      <td>6864448.0</td>\n",
       "      <td>Nota Fiscal</td>\n",
       "      <td>0.0</td>\n",
       "      <td>374258346</td>\n",
       "      <td>312.27</td>\n",
       "      <td>COMPANHIA DE ELETRICIDADE DO ESTADO DA BAHIA</td>\n",
       "      <td>15139629000194</td>\n",
       "      <td>305.26</td>\n",
       "      <td>7.01</td>\n",
       "      <td>1609919.0</td>\n",
       "      <td>0.0</td>\n",
       "      <td>204554</td>\n",
       "    </tr>\n",
       "    <tr>\n",
       "      <th>3</th>\n",
       "      <td>3</td>\n",
       "      <td>2019.0</td>\n",
       "      <td>7.0</td>\n",
       "      <td>MANUTENÇÃO DE ESCRITÓRIO DE APOIO À ATIVIDADE ...</td>\n",
       "      <td>6892233.0</td>\n",
       "      <td>Nota Fiscal</td>\n",
       "      <td>0.0</td>\n",
       "      <td>380373873</td>\n",
       "      <td>191.56</td>\n",
       "      <td>COMPANHIA DE ELETRICIDADE DO ESTADO DA BAHIA</td>\n",
       "      <td>15139629000194</td>\n",
       "      <td>184.53</td>\n",
       "      <td>7.03</td>\n",
       "      <td>1621422.0</td>\n",
       "      <td>0.0</td>\n",
       "      <td>204554</td>\n",
       "    </tr>\n",
       "    <tr>\n",
       "      <th>4</th>\n",
       "      <td>4</td>\n",
       "      <td>2019.0</td>\n",
       "      <td>8.0</td>\n",
       "      <td>MANUTENÇÃO DE ESCRITÓRIO DE APOIO À ATIVIDADE ...</td>\n",
       "      <td>6915356.0</td>\n",
       "      <td>Nota Fiscal</td>\n",
       "      <td>0.0</td>\n",
       "      <td>386469334</td>\n",
       "      <td>138.61</td>\n",
       "      <td>COMPANHIA DE ELETRICIDADE DO ESTADO DA BAHIA</td>\n",
       "      <td>15139629000194</td>\n",
       "      <td>131.90</td>\n",
       "      <td>6.71</td>\n",
       "      <td>1632429.0</td>\n",
       "      <td>0.0</td>\n",
       "      <td>204554</td>\n",
       "    </tr>\n",
       "  </tbody>\n",
       "</table>\n",
       "</div>"
      ],
      "text/plain": [
       "   index     ano  mes                                        tipoDespesa  \\\n",
       "0      0  2019.0  3.0  MANUTENÇÃO DE ESCRITÓRIO DE APOIO À ATIVIDADE ...   \n",
       "1      1  2019.0  5.0  MANUTENÇÃO DE ESCRITÓRIO DE APOIO À ATIVIDADE ...   \n",
       "2      2  2019.0  6.0  MANUTENÇÃO DE ESCRITÓRIO DE APOIO À ATIVIDADE ...   \n",
       "3      3  2019.0  7.0  MANUTENÇÃO DE ESCRITÓRIO DE APOIO À ATIVIDADE ...   \n",
       "4      4  2019.0  8.0  MANUTENÇÃO DE ESCRITÓRIO DE APOIO À ATIVIDADE ...   \n",
       "\n",
       "   codDocumento tipoDocumento  codTipoDocumento numDocumento  valorDocumento  \\\n",
       "0     6801547.0   Nota Fiscal               0.0    355732875          154.95   \n",
       "1     6839323.0   Nota Fiscal               0.0    368080247          343.48   \n",
       "2     6864448.0   Nota Fiscal               0.0    374258346          312.27   \n",
       "3     6892233.0   Nota Fiscal               0.0    380373873          191.56   \n",
       "4     6915356.0   Nota Fiscal               0.0    386469334          138.61   \n",
       "\n",
       "                                 nomeFornecedor cnpjCpfFornecedor  \\\n",
       "0  COMPANHIA DE ELETRICIDADE DO ESTADO DA BAHIA    15139629000194   \n",
       "1  COMPANHIA DE ELETRICIDADE DO ESTADO DA BAHIA    15139629000194   \n",
       "2  COMPANHIA DE ELETRICIDADE DO ESTADO DA BAHIA    15139629000194   \n",
       "3  COMPANHIA DE ELETRICIDADE DO ESTADO DA BAHIA    15139629000194   \n",
       "4  COMPANHIA DE ELETRICIDADE DO ESTADO DA BAHIA    15139629000194   \n",
       "\n",
       "   valorLiquido  valorGlosa    codLote  parcela      id  \n",
       "0        154.95        0.00  1582602.0      0.0  204554  \n",
       "1        335.80        7.68  1599179.0      0.0  204554  \n",
       "2        305.26        7.01  1609919.0      0.0  204554  \n",
       "3        184.53        7.03  1621422.0      0.0  204554  \n",
       "4        131.90        6.71  1632429.0      0.0  204554  "
      ]
     },
     "execution_count": 69,
     "metadata": {},
     "output_type": "execute_result"
    }
   ],
   "source": [
    "total_spendings.head()"
   ]
  },
  {
   "cell_type": "code",
   "execution_count": 70,
   "metadata": {},
   "outputs": [],
   "source": [
    "parliamentarians = pd.read_sql('SELECT * FROM parliamentarians', engine)"
   ]
  },
  {
   "cell_type": "code",
   "execution_count": 72,
   "metadata": {},
   "outputs": [],
   "source": [
    "total_parliamentarians = total_spendings.merge(parliamentarians, on=\"id\")"
   ]
  },
  {
   "cell_type": "code",
   "execution_count": 74,
   "metadata": {},
   "outputs": [
    {
     "data": {
      "text/html": [
       "<div>\n",
       "<style scoped>\n",
       "    .dataframe tbody tr th:only-of-type {\n",
       "        vertical-align: middle;\n",
       "    }\n",
       "\n",
       "    .dataframe tbody tr th {\n",
       "        vertical-align: top;\n",
       "    }\n",
       "\n",
       "    .dataframe thead th {\n",
       "        text-align: right;\n",
       "    }\n",
       "</style>\n",
       "<table border=\"1\" class=\"dataframe\">\n",
       "  <thead>\n",
       "    <tr style=\"text-align: right;\">\n",
       "      <th></th>\n",
       "      <th>index_x</th>\n",
       "      <th>ano</th>\n",
       "      <th>mes</th>\n",
       "      <th>tipoDespesa</th>\n",
       "      <th>codDocumento</th>\n",
       "      <th>tipoDocumento</th>\n",
       "      <th>codTipoDocumento</th>\n",
       "      <th>numDocumento</th>\n",
       "      <th>valorDocumento</th>\n",
       "      <th>nomeFornecedor</th>\n",
       "      <th>...</th>\n",
       "      <th>id</th>\n",
       "      <th>index_y</th>\n",
       "      <th>uri</th>\n",
       "      <th>nome</th>\n",
       "      <th>siglaPartido</th>\n",
       "      <th>uriPartido</th>\n",
       "      <th>siglaUf</th>\n",
       "      <th>idLegislatura</th>\n",
       "      <th>urlFoto</th>\n",
       "      <th>email</th>\n",
       "    </tr>\n",
       "  </thead>\n",
       "  <tbody>\n",
       "    <tr>\n",
       "      <th>0</th>\n",
       "      <td>0</td>\n",
       "      <td>2019.0</td>\n",
       "      <td>3.0</td>\n",
       "      <td>MANUTENÇÃO DE ESCRITÓRIO DE APOIO À ATIVIDADE ...</td>\n",
       "      <td>6801547.0</td>\n",
       "      <td>Nota Fiscal</td>\n",
       "      <td>0.0</td>\n",
       "      <td>355732875</td>\n",
       "      <td>154.95</td>\n",
       "      <td>COMPANHIA DE ELETRICIDADE DO ESTADO DA BAHIA</td>\n",
       "      <td>...</td>\n",
       "      <td>204554</td>\n",
       "      <td>0</td>\n",
       "      <td>https://dadosabertos.camara.leg.br/api/v2/depu...</td>\n",
       "      <td>Abílio Santana</td>\n",
       "      <td>PL</td>\n",
       "      <td>https://dadosabertos.camara.leg.br/api/v2/part...</td>\n",
       "      <td>BA</td>\n",
       "      <td>56</td>\n",
       "      <td>https://www.camara.leg.br/internet/deputado/ba...</td>\n",
       "      <td>dep.abiliosantana@camara.leg.br</td>\n",
       "    </tr>\n",
       "    <tr>\n",
       "      <th>1</th>\n",
       "      <td>1</td>\n",
       "      <td>2019.0</td>\n",
       "      <td>5.0</td>\n",
       "      <td>MANUTENÇÃO DE ESCRITÓRIO DE APOIO À ATIVIDADE ...</td>\n",
       "      <td>6839323.0</td>\n",
       "      <td>Nota Fiscal</td>\n",
       "      <td>0.0</td>\n",
       "      <td>368080247</td>\n",
       "      <td>343.48</td>\n",
       "      <td>COMPANHIA DE ELETRICIDADE DO ESTADO DA BAHIA</td>\n",
       "      <td>...</td>\n",
       "      <td>204554</td>\n",
       "      <td>0</td>\n",
       "      <td>https://dadosabertos.camara.leg.br/api/v2/depu...</td>\n",
       "      <td>Abílio Santana</td>\n",
       "      <td>PL</td>\n",
       "      <td>https://dadosabertos.camara.leg.br/api/v2/part...</td>\n",
       "      <td>BA</td>\n",
       "      <td>56</td>\n",
       "      <td>https://www.camara.leg.br/internet/deputado/ba...</td>\n",
       "      <td>dep.abiliosantana@camara.leg.br</td>\n",
       "    </tr>\n",
       "    <tr>\n",
       "      <th>2</th>\n",
       "      <td>2</td>\n",
       "      <td>2019.0</td>\n",
       "      <td>6.0</td>\n",
       "      <td>MANUTENÇÃO DE ESCRITÓRIO DE APOIO À ATIVIDADE ...</td>\n",
       "      <td>6864448.0</td>\n",
       "      <td>Nota Fiscal</td>\n",
       "      <td>0.0</td>\n",
       "      <td>374258346</td>\n",
       "      <td>312.27</td>\n",
       "      <td>COMPANHIA DE ELETRICIDADE DO ESTADO DA BAHIA</td>\n",
       "      <td>...</td>\n",
       "      <td>204554</td>\n",
       "      <td>0</td>\n",
       "      <td>https://dadosabertos.camara.leg.br/api/v2/depu...</td>\n",
       "      <td>Abílio Santana</td>\n",
       "      <td>PL</td>\n",
       "      <td>https://dadosabertos.camara.leg.br/api/v2/part...</td>\n",
       "      <td>BA</td>\n",
       "      <td>56</td>\n",
       "      <td>https://www.camara.leg.br/internet/deputado/ba...</td>\n",
       "      <td>dep.abiliosantana@camara.leg.br</td>\n",
       "    </tr>\n",
       "    <tr>\n",
       "      <th>3</th>\n",
       "      <td>3</td>\n",
       "      <td>2019.0</td>\n",
       "      <td>7.0</td>\n",
       "      <td>MANUTENÇÃO DE ESCRITÓRIO DE APOIO À ATIVIDADE ...</td>\n",
       "      <td>6892233.0</td>\n",
       "      <td>Nota Fiscal</td>\n",
       "      <td>0.0</td>\n",
       "      <td>380373873</td>\n",
       "      <td>191.56</td>\n",
       "      <td>COMPANHIA DE ELETRICIDADE DO ESTADO DA BAHIA</td>\n",
       "      <td>...</td>\n",
       "      <td>204554</td>\n",
       "      <td>0</td>\n",
       "      <td>https://dadosabertos.camara.leg.br/api/v2/depu...</td>\n",
       "      <td>Abílio Santana</td>\n",
       "      <td>PL</td>\n",
       "      <td>https://dadosabertos.camara.leg.br/api/v2/part...</td>\n",
       "      <td>BA</td>\n",
       "      <td>56</td>\n",
       "      <td>https://www.camara.leg.br/internet/deputado/ba...</td>\n",
       "      <td>dep.abiliosantana@camara.leg.br</td>\n",
       "    </tr>\n",
       "    <tr>\n",
       "      <th>4</th>\n",
       "      <td>4</td>\n",
       "      <td>2019.0</td>\n",
       "      <td>8.0</td>\n",
       "      <td>MANUTENÇÃO DE ESCRITÓRIO DE APOIO À ATIVIDADE ...</td>\n",
       "      <td>6915356.0</td>\n",
       "      <td>Nota Fiscal</td>\n",
       "      <td>0.0</td>\n",
       "      <td>386469334</td>\n",
       "      <td>138.61</td>\n",
       "      <td>COMPANHIA DE ELETRICIDADE DO ESTADO DA BAHIA</td>\n",
       "      <td>...</td>\n",
       "      <td>204554</td>\n",
       "      <td>0</td>\n",
       "      <td>https://dadosabertos.camara.leg.br/api/v2/depu...</td>\n",
       "      <td>Abílio Santana</td>\n",
       "      <td>PL</td>\n",
       "      <td>https://dadosabertos.camara.leg.br/api/v2/part...</td>\n",
       "      <td>BA</td>\n",
       "      <td>56</td>\n",
       "      <td>https://www.camara.leg.br/internet/deputado/ba...</td>\n",
       "      <td>dep.abiliosantana@camara.leg.br</td>\n",
       "    </tr>\n",
       "  </tbody>\n",
       "</table>\n",
       "<p>5 rows × 25 columns</p>\n",
       "</div>"
      ],
      "text/plain": [
       "   index_x     ano  mes                                        tipoDespesa  \\\n",
       "0        0  2019.0  3.0  MANUTENÇÃO DE ESCRITÓRIO DE APOIO À ATIVIDADE ...   \n",
       "1        1  2019.0  5.0  MANUTENÇÃO DE ESCRITÓRIO DE APOIO À ATIVIDADE ...   \n",
       "2        2  2019.0  6.0  MANUTENÇÃO DE ESCRITÓRIO DE APOIO À ATIVIDADE ...   \n",
       "3        3  2019.0  7.0  MANUTENÇÃO DE ESCRITÓRIO DE APOIO À ATIVIDADE ...   \n",
       "4        4  2019.0  8.0  MANUTENÇÃO DE ESCRITÓRIO DE APOIO À ATIVIDADE ...   \n",
       "\n",
       "   codDocumento tipoDocumento  codTipoDocumento numDocumento  valorDocumento  \\\n",
       "0     6801547.0   Nota Fiscal               0.0    355732875          154.95   \n",
       "1     6839323.0   Nota Fiscal               0.0    368080247          343.48   \n",
       "2     6864448.0   Nota Fiscal               0.0    374258346          312.27   \n",
       "3     6892233.0   Nota Fiscal               0.0    380373873          191.56   \n",
       "4     6915356.0   Nota Fiscal               0.0    386469334          138.61   \n",
       "\n",
       "                                 nomeFornecedor  ...      id  index_y  \\\n",
       "0  COMPANHIA DE ELETRICIDADE DO ESTADO DA BAHIA  ...  204554        0   \n",
       "1  COMPANHIA DE ELETRICIDADE DO ESTADO DA BAHIA  ...  204554        0   \n",
       "2  COMPANHIA DE ELETRICIDADE DO ESTADO DA BAHIA  ...  204554        0   \n",
       "3  COMPANHIA DE ELETRICIDADE DO ESTADO DA BAHIA  ...  204554        0   \n",
       "4  COMPANHIA DE ELETRICIDADE DO ESTADO DA BAHIA  ...  204554        0   \n",
       "\n",
       "                                                 uri            nome  \\\n",
       "0  https://dadosabertos.camara.leg.br/api/v2/depu...  Abílio Santana   \n",
       "1  https://dadosabertos.camara.leg.br/api/v2/depu...  Abílio Santana   \n",
       "2  https://dadosabertos.camara.leg.br/api/v2/depu...  Abílio Santana   \n",
       "3  https://dadosabertos.camara.leg.br/api/v2/depu...  Abílio Santana   \n",
       "4  https://dadosabertos.camara.leg.br/api/v2/depu...  Abílio Santana   \n",
       "\n",
       "   siglaPartido                                         uriPartido  siglaUf  \\\n",
       "0            PL  https://dadosabertos.camara.leg.br/api/v2/part...       BA   \n",
       "1            PL  https://dadosabertos.camara.leg.br/api/v2/part...       BA   \n",
       "2            PL  https://dadosabertos.camara.leg.br/api/v2/part...       BA   \n",
       "3            PL  https://dadosabertos.camara.leg.br/api/v2/part...       BA   \n",
       "4            PL  https://dadosabertos.camara.leg.br/api/v2/part...       BA   \n",
       "\n",
       "  idLegislatura                                            urlFoto  \\\n",
       "0            56  https://www.camara.leg.br/internet/deputado/ba...   \n",
       "1            56  https://www.camara.leg.br/internet/deputado/ba...   \n",
       "2            56  https://www.camara.leg.br/internet/deputado/ba...   \n",
       "3            56  https://www.camara.leg.br/internet/deputado/ba...   \n",
       "4            56  https://www.camara.leg.br/internet/deputado/ba...   \n",
       "\n",
       "                             email  \n",
       "0  dep.abiliosantana@camara.leg.br  \n",
       "1  dep.abiliosantana@camara.leg.br  \n",
       "2  dep.abiliosantana@camara.leg.br  \n",
       "3  dep.abiliosantana@camara.leg.br  \n",
       "4  dep.abiliosantana@camara.leg.br  \n",
       "\n",
       "[5 rows x 25 columns]"
      ]
     },
     "execution_count": 74,
     "metadata": {},
     "output_type": "execute_result"
    }
   ],
   "source": [
    "total_parliamentarians.head()"
   ]
  },
  {
   "cell_type": "code",
   "execution_count": 78,
   "metadata": {},
   "outputs": [],
   "source": [
    "spds_pl = total_parliamentarians.groupby('nome').sum()[['valorDocumento', 'valorLiquido']]"
   ]
  },
  {
   "cell_type": "code",
   "execution_count": 80,
   "metadata": {},
   "outputs": [],
   "source": [
    "top10_first = spds_pl.sort_values(by='valorDocumento', ascending=False).head(10)\n",
    "top10_last = spds_pl.sort_values(by='valorDocumento', ascending=False)"
   ]
  },
  {
   "cell_type": "code",
   "execution_count": 84,
   "metadata": {
    "scrolled": true
   },
   "outputs": [
    {
     "data": {
      "text/plain": [
       "<matplotlib.axes._subplots.AxesSubplot at 0xee51418>"
      ]
     },
     "execution_count": 84,
     "metadata": {},
     "output_type": "execute_result"
    },
    {
     "data": {
      "image/png": "[encoded data removed]",
      "text/plain": [
       "<Figure size 432x288 with 1 Axes>"
      ]
     },
     "metadata": {
      "needs_background": "light"
     },
     "output_type": "display_data"
    }
   ],
   "source": [
    "total_spendings['nomeFornecedor'].value_counts()[:10].plot(kind='bar')"
   ]
  },
  {
   "cell_type": "code",
   "execution_count": null,
   "metadata": {},
   "outputs": [],
   "source": []
  }
 ],
 "metadata": {
  "kernelspec": {
   "display_name": "Python 3",
   "language": "python",
   "name": "python3"
  },
  "language_info": {
   "codemirror_mode": {
    "name": "ipython",
    "version": 3
   },
   "file_extension": ".py",
   "mimetype": "text/x-python",
   "name": "python",
   "nbconvert_exporter": "python",
   "pygments_lexer": "ipython3",
   "version": "3.8.2"
  }
 },
 "nbformat": 4,
 "nbformat_minor": 4
}
